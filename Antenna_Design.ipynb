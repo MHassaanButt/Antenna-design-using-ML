{
  "cells": [
    {
      "cell_type": "markdown",
      "id": "e9697219-f170-4257-863d-b4235d3b283c",
      "metadata": {
        "id": "e9697219-f170-4257-863d-b4235d3b283c"
      },
      "source": [
        "# Module 1 Project\n",
        "\n",
        "## Project overview\n"
      ]
    },
    {
      "cell_type": "markdown",
      "id": "0d9a54ce-083d-4ae0-953d-3cde0e9fb72e",
      "metadata": {
        "id": "0d9a54ce-083d-4ae0-953d-3cde0e9fb72e"
      },
      "source": [
        "## Select a problem based on your specialization in ECE:\n",
        "\n",
        "\n",
        "\n",
        "**Communications/electronics engineering**: Antenna design\n",
        "\n",
        "_Dataset:_ `project_datasets/comm_antenna.csv`\n",
        "\n",
        "_Dataset description:_ This is a dataset of different antenna designs. Columns:\n",
        "1. TestFreq (frequency used for testing the signal strength)\n",
        "2. PatchLength (length of patch antenna in mm)\n",
        "3. PatchWidth (width of patch antenna in mm)\n",
        "4. SlotLength (length of slot in antenna in mm)\n",
        "5. SlotWidth (width of slot in antenna in mm)\n",
        "6. Strength (signal strength in dB, higher is better)\n",
        "\n",
        "_Problem:_ Is it possible to create a statistical model that can estimate signal strength based on these parameters? Additionally, is it possible to create a model that only use the parameters that are not the test frequency?  What are the best accuracies of your statistical models?\n"
      ]
    },
    {
      "cell_type": "markdown",
      "id": "2TTQ5a9JU8fS",
      "metadata": {
        "id": "2TTQ5a9JU8fS"
      },
      "source": [
        "Part a: Is it possible to create a statistical model that can estimate signal strength based on these parameters?\n",
        "\n",
        "Answer: Yes, Is it possible to create a statistical model that can estimate signal strength based on these parameters.\n"
      ]
    },
    {
      "cell_type": "code",
      "execution_count": 1,
      "id": "ovM706sYLaN8",
      "metadata": {
        "colab": {
          "base_uri": "https://localhost:8080/"
        },
        "id": "ovM706sYLaN8",
        "outputId": "3e07c747-2fe0-4ea7-e3ba-2d787f071fba"
      },
      "outputs": [
        {
          "name": "stdout",
          "output_type": "stream",
          "text": [
            "Drive already mounted at /content/drive; to attempt to forcibly remount, call drive.mount(\"/content/drive\", force_remount=True).\n"
          ]
        }
      ],
      "source": [
        "from google.colab import drive\n",
        "drive.mount('/content/drive')"
      ]
    },
    {
      "cell_type": "code",
      "execution_count": 2,
      "id": "fd4c7b2b-a841-4f8c-b316-362598e76e97",
      "metadata": {
        "id": "fd4c7b2b-a841-4f8c-b316-362598e76e97"
      },
      "outputs": [],
      "source": [
        "import pandas as pd\n",
        "import numpy as np\n",
        "from sklearn.model_selection import train_test_split\n",
        "from sklearn.metrics import mean_squared_error, r2_score\n",
        "from sklearn.linear_model import LinearRegression, ElasticNet, Lasso\n",
        "from sklearn.tree import DecisionTreeRegressor\n",
        "from sklearn.ensemble import RandomForestRegressor"
      ]
    },
    {
      "cell_type": "code",
      "execution_count": 3,
      "id": "xTmTOHXgLaxe",
      "metadata": {
        "id": "xTmTOHXgLaxe"
      },
      "outputs": [],
      "source": [
        "#reading dataset\n",
        "data = pd.read_csv('/content/drive/MyDrive/Dataset/comm_antenna.csv')"
      ]
    },
    {
      "cell_type": "code",
      "execution_count": 4,
      "id": "y0mZ3SfBL3gO",
      "metadata": {
        "colab": {
          "base_uri": "https://localhost:8080/",
          "height": 204
        },
        "id": "y0mZ3SfBL3gO",
        "outputId": "c1754163-3cd7-4225-892c-f0d658148601"
      },
      "outputs": [
        {
          "data": {
            "text/html": [
              "<div>\n",
              "<style scoped>\n",
              "    .dataframe tbody tr th:only-of-type {\n",
              "        vertical-align: middle;\n",
              "    }\n",
              "\n",
              "    .dataframe tbody tr th {\n",
              "        vertical-align: top;\n",
              "    }\n",
              "\n",
              "    .dataframe thead th {\n",
              "        text-align: right;\n",
              "    }\n",
              "</style>\n",
              "<table border=\"1\" class=\"dataframe\">\n",
              "  <thead>\n",
              "    <tr style=\"text-align: right;\">\n",
              "      <th></th>\n",
              "      <th>TestFreq</th>\n",
              "      <th>PatchLength</th>\n",
              "      <th>PatchWidth</th>\n",
              "      <th>SlotLength</th>\n",
              "      <th>SlotWidth</th>\n",
              "      <th>Strength</th>\n",
              "    </tr>\n",
              "  </thead>\n",
              "  <tbody>\n",
              "    <tr>\n",
              "      <th>0</th>\n",
              "      <td>1.500000</td>\n",
              "      <td>33.0</td>\n",
              "      <td>33</td>\n",
              "      <td>0.0</td>\n",
              "      <td>0</td>\n",
              "      <td>-4.927274</td>\n",
              "    </tr>\n",
              "    <tr>\n",
              "      <th>1</th>\n",
              "      <td>1.551724</td>\n",
              "      <td>33.0</td>\n",
              "      <td>33</td>\n",
              "      <td>0.0</td>\n",
              "      <td>0</td>\n",
              "      <td>-5.077877</td>\n",
              "    </tr>\n",
              "    <tr>\n",
              "      <th>2</th>\n",
              "      <td>1.603448</td>\n",
              "      <td>33.0</td>\n",
              "      <td>33</td>\n",
              "      <td>0.0</td>\n",
              "      <td>0</td>\n",
              "      <td>-5.183708</td>\n",
              "    </tr>\n",
              "    <tr>\n",
              "      <th>3</th>\n",
              "      <td>1.655172</td>\n",
              "      <td>33.0</td>\n",
              "      <td>33</td>\n",
              "      <td>0.0</td>\n",
              "      <td>0</td>\n",
              "      <td>-5.215997</td>\n",
              "    </tr>\n",
              "    <tr>\n",
              "      <th>4</th>\n",
              "      <td>1.706897</td>\n",
              "      <td>33.0</td>\n",
              "      <td>33</td>\n",
              "      <td>0.0</td>\n",
              "      <td>0</td>\n",
              "      <td>-5.120009</td>\n",
              "    </tr>\n",
              "  </tbody>\n",
              "</table>\n",
              "</div>"
            ],
            "text/plain": [
              "   TestFreq  PatchLength  PatchWidth  SlotLength  SlotWidth  Strength\n",
              "0  1.500000         33.0          33         0.0          0 -4.927274\n",
              "1  1.551724         33.0          33         0.0          0 -5.077877\n",
              "2  1.603448         33.0          33         0.0          0 -5.183708\n",
              "3  1.655172         33.0          33         0.0          0 -5.215997\n",
              "4  1.706897         33.0          33         0.0          0 -5.120009"
            ]
          },
          "execution_count": 4,
          "metadata": {},
          "output_type": "execute_result"
        }
      ],
      "source": [
        "data.head()"
      ]
    },
    {
      "cell_type": "code",
      "execution_count": 5,
      "id": "4ZSrLryVTvog",
      "metadata": {
        "colab": {
          "base_uri": "https://localhost:8080/"
        },
        "id": "4ZSrLryVTvog",
        "outputId": "1b65fc11-3d7c-4d31-df03-a30dee36dd3c"
      },
      "outputs": [
        {
          "data": {
            "text/plain": [
              "TestFreq        279\n",
              "PatchLength       5\n",
              "PatchWidth        5\n",
              "SlotLength        6\n",
              "SlotWidth         6\n",
              "Strength       1266\n",
              "dtype: int64"
            ]
          },
          "execution_count": 5,
          "metadata": {},
          "output_type": "execute_result"
        }
      ],
      "source": [
        "#Checking Number of unique values does our columns have \n",
        "data.nunique()"
      ]
    },
    {
      "cell_type": "markdown",
      "id": "e2yP1XxmVdXV",
      "metadata": {
        "id": "e2yP1XxmVdXV"
      },
      "source": [
        "Part b: Additionally, is it possible to create a model that only use the parameters that are not the test frequency?"
      ]
    },
    {
      "cell_type": "code",
      "execution_count": 6,
      "id": "tgxRhbIzMDEH",
      "metadata": {
        "id": "tgxRhbIzMDEH"
      },
      "outputs": [],
      "source": [
        "X1 = data.drop(['TestFreq','Strength'], axis=1)\n",
        "y1 = data['Strength']\n",
        "X_train1, X_test1, y_train1, y_test1 = train_test_split(X1, y1, test_size=0.3)"
      ]
    },
    {
      "cell_type": "code",
      "execution_count": 7,
      "id": "c5BfkihYM-v9",
      "metadata": {
        "colab": {
          "base_uri": "https://localhost:8080/"
        },
        "id": "c5BfkihYM-v9",
        "outputId": "29e7d42d-51dc-425d-b4db-12b5c0398831"
      },
      "outputs": [
        {
          "name": "stdout",
          "output_type": "stream",
          "text": [
            "RMSE of LinearRegression model is: 2.676241886875816\n",
            "R2 value of LinearRegression is: 0.28721183022604246\n",
            "**************************************************\n",
            "RMSE of ElasticNet model is: 2.7188484952980243\n",
            "R2 value of ElasticNet is: 0.26433554803939263\n",
            "**************************************************\n",
            "RMSE of Lasso model is: 2.762681278365111\n",
            "R2 value of Lasso is: 0.24042384111534953\n",
            "**************************************************\n",
            "RMSE of DecisionTreeRegressor model is: 2.6278146757974685\n",
            "R2 value of DecisionTreeRegressor is: 0.31277456777177237\n",
            "**************************************************\n",
            "RMSE of RandomForestRegressor model is: 2.624496871014825\n",
            "R2 value of RandomForestRegressor is: 0.314508815216624\n",
            "**************************************************\n"
          ]
        }
      ],
      "source": [
        "models = [LinearRegression, ElasticNet, Lasso, DecisionTreeRegressor, RandomForestRegressor]\n",
        "for model in models:\n",
        " reg = model()\n",
        " reg.fit(X_train1,y_train1)\n",
        " pred1 = reg.predict(X_test1)\n",
        " err1 = mean_squared_error(y_test1, pred1) ** .5\n",
        " print(f'RMSE of {model.__name__} model is: {err1}')\n",
        " print(f'R2 value of {model.__name__} is: {np.mean(r2_score(y_test1, pred1))}')\n",
        " print('*'*50)"
      ]
    },
    {
      "cell_type": "markdown",
      "id": "_9unnmoyWKf0",
      "metadata": {
        "id": "_9unnmoyWKf0"
      },
      "source": [
        "Answer: Yes it's possible to create that kind of model but we will get too much bad results because the variable test frequency plays a vital role to estimate signal strength. For better understanding you can see bellow 2 cells for five regression model results and their R^2 values which give us a very clear picture how much important this attribute is for statical models."
      ]
    },
    {
      "cell_type": "markdown",
      "id": "SH09ahOAXaa-",
      "metadata": {
        "id": "SH09ahOAXaa-"
      },
      "source": [
        "What is the maximum accuracy of your statistical model?"
      ]
    },
    {
      "cell_type": "code",
      "execution_count": 8,
      "id": "zJVVuiTMTvr6",
      "metadata": {
        "colab": {
          "base_uri": "https://localhost:8080/",
          "height": 52
        },
        "id": "zJVVuiTMTvr6",
        "outputId": "9df16b7d-53bb-412c-c530-a2e08006cc6b"
      },
      "outputs": [
        {
          "data": {
            "application/vnd.google.colaboratory.intrinsic+json": {
              "type": "string"
            },
            "text/plain": [
              "'Answer: Without considering the maximum accuracy is around 23% but when we consider TestFreq for essitmation of \\nsignal strength the accuracy reaches to 98% as shown in bellow cells'"
            ]
          },
          "execution_count": 8,
          "metadata": {},
          "output_type": "execute_result"
        }
      ],
      "source": [
        "'''Answer: Without considering the maximum accuracy is around 23% but when we consider TestFreq for essitmation of \n",
        "signal strength the accuracy reaches to 98% as shown in bellow cells'''"
      ]
    },
    {
      "cell_type": "code",
      "execution_count": 9,
      "id": "RgCc8hFSTv7t",
      "metadata": {
        "id": "RgCc8hFSTv7t"
      },
      "outputs": [],
      "source": [
        "new_data = pd.read_csv('/content/drive/MyDrive/Dataset/comm_antenna.csv')"
      ]
    },
    {
      "cell_type": "code",
      "execution_count": 10,
      "id": "gUjfHPi6aufX",
      "metadata": {
        "id": "gUjfHPi6aufX"
      },
      "outputs": [],
      "source": [
        "X = new_data.drop(['Strength'], axis=1)\n",
        "y = new_data['Strength']\n",
        "X_train, X_test, y_train, y_test = train_test_split(X, y, test_size=0.3)"
      ]
    },
    {
      "cell_type": "code",
      "execution_count": 11,
      "id": "aQwIr1nxaui1",
      "metadata": {
        "colab": {
          "base_uri": "https://localhost:8080/"
        },
        "id": "aQwIr1nxaui1",
        "outputId": "db3ff775-52e0-41b6-b157-882f61a838b8"
      },
      "outputs": [
        {
          "name": "stdout",
          "output_type": "stream",
          "text": [
            "RMSE of LinearRegression model is: 2.7611782684314625\n",
            "R2 value of LinearRegression is: 0.25005662488174607\n",
            "**************************************************\n",
            "RMSE of ElasticNet model is: 2.7941026554043513\n",
            "R2 value of ElasticNet is: 0.2320652935067815\n",
            "**************************************************\n",
            "RMSE of Lasso model is: 2.811382906304811\n",
            "R2 value of Lasso is: 0.2225372690799633\n",
            "**************************************************\n",
            "RMSE of DecisionTreeRegressor model is: 0.9954226952977892\n",
            "R2 value of DecisionTreeRegressor is: 0.9025336603929535\n",
            "**************************************************\n",
            "RMSE of RandomForestRegressor model is: 0.9306109888387203\n",
            "R2 value of RandomForestRegressor is: 0.9148124883454711\n",
            "**************************************************\n"
          ]
        }
      ],
      "source": [
        "models = [LinearRegression, ElasticNet, Lasso, DecisionTreeRegressor, RandomForestRegressor]\n",
        "for model in models:\n",
        " reg = model()\n",
        " reg.fit(X_train,y_train)\n",
        " pred = reg.predict(X_test)\n",
        " err = mean_squared_error(y_test, pred) ** .5\n",
        " print(f'RMSE of {model.__name__} model is: {err}')\n",
        " print(f'R2 value of {model.__name__} is: {np.mean(r2_score(y_test, pred))}')\n",
        " print('*'*50)"
      ]
    },
    {
      "cell_type": "code",
      "execution_count": 12,
      "id": "UXb2fJ5hNgYc",
      "metadata": {
        "colab": {
          "base_uri": "https://localhost:8080/",
          "height": 52
        },
        "id": "UXb2fJ5hNgYc",
        "outputId": "fe444f5a-d335-417c-ab12-feb59b862481"
      },
      "outputs": [
        {
          "data": {
            "application/vnd.google.colaboratory.intrinsic+json": {
              "type": "string"
            },
            "text/plain": [
              "' DecisionTreeRegressor and RandomForestRegressor are the best models among the these five models. However RandomForestRegressor model resulted much better their error is pretty low. Moreover 90%+ R^2 is also a good value. '"
            ]
          },
          "execution_count": 12,
          "metadata": {},
          "output_type": "execute_result"
        }
      ],
      "source": [
        "''' DecisionTreeRegressor and RandomForestRegressor are the best models among the these five models. However RandomForestRegressor model resulted much better their error is pretty low. Moreover 90%+ R^2 is also a good value. '''"
      ]
    }
  ],
  "metadata": {
    "colab": {
      "name": "project1.ipynb",
      "provenance": []
    },
    "kernelspec": {
      "display_name": "Python 3 (ipykernel)",
      "language": "python",
      "name": "python3"
    },
    "language_info": {
      "codemirror_mode": {
        "name": "ipython",
        "version": 3
      },
      "file_extension": ".py",
      "mimetype": "text/x-python",
      "name": "python",
      "nbconvert_exporter": "python",
      "pygments_lexer": "ipython3",
      "version": "3.9.7"
    }
  },
  "nbformat": 4,
  "nbformat_minor": 5
}
